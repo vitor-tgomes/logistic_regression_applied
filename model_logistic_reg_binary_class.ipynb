{
 "cells": [
  {
   "cell_type": "code",
   "execution_count": 2,
   "metadata": {},
   "outputs": [],
   "source": [
    "import pandas as pd\n",
    "import numpy as np\n",
    "import math, copy"
   ]
  },
  {
   "cell_type": "code",
   "execution_count": 3,
   "metadata": {},
   "outputs": [
    {
     "data": {
      "text/html": [
       "<div>\n",
       "<style scoped>\n",
       "    .dataframe tbody tr th:only-of-type {\n",
       "        vertical-align: middle;\n",
       "    }\n",
       "\n",
       "    .dataframe tbody tr th {\n",
       "        vertical-align: top;\n",
       "    }\n",
       "\n",
       "    .dataframe thead th {\n",
       "        text-align: right;\n",
       "    }\n",
       "</style>\n",
       "<table border=\"1\" class=\"dataframe\">\n",
       "  <thead>\n",
       "    <tr style=\"text-align: right;\">\n",
       "      <th></th>\n",
       "      <th>Age</th>\n",
       "      <th>Family size</th>\n",
       "      <th>latitude</th>\n",
       "      <th>Pin code</th>\n",
       "      <th>Gender_Male</th>\n",
       "      <th>Marital Status_Prefer not to say</th>\n",
       "      <th>Marital Status_Single</th>\n",
       "      <th>Occupation_House wife</th>\n",
       "      <th>Occupation_Self Employeed</th>\n",
       "      <th>Occupation_Student</th>\n",
       "      <th>Monthly Income_25001 to 50000</th>\n",
       "      <th>Monthly Income_Below Rs.10000</th>\n",
       "      <th>Monthly Income_More than 50000</th>\n",
       "      <th>Monthly Income_No Income</th>\n",
       "      <th>Educational Qualifications_Ph.D</th>\n",
       "      <th>Educational Qualifications_Post Graduate</th>\n",
       "      <th>Educational Qualifications_School</th>\n",
       "      <th>Educational Qualifications_Uneducated</th>\n",
       "      <th>Output_Yes</th>\n",
       "      <th>Feedback_Negative</th>\n",
       "    </tr>\n",
       "  </thead>\n",
       "  <tbody>\n",
       "    <tr>\n",
       "      <th>0</th>\n",
       "      <td>0.133333</td>\n",
       "      <td>0.6</td>\n",
       "      <td>0.0</td>\n",
       "      <td>0.000000</td>\n",
       "      <td>0</td>\n",
       "      <td>0</td>\n",
       "      <td>1</td>\n",
       "      <td>0</td>\n",
       "      <td>0</td>\n",
       "      <td>1</td>\n",
       "      <td>0</td>\n",
       "      <td>0</td>\n",
       "      <td>0</td>\n",
       "      <td>1</td>\n",
       "      <td>0</td>\n",
       "      <td>1</td>\n",
       "      <td>0</td>\n",
       "      <td>0</td>\n",
       "      <td>1</td>\n",
       "      <td>0</td>\n",
       "    </tr>\n",
       "    <tr>\n",
       "      <th>1</th>\n",
       "      <td>0.400000</td>\n",
       "      <td>0.4</td>\n",
       "      <td>0.0</td>\n",
       "      <td>0.074074</td>\n",
       "      <td>0</td>\n",
       "      <td>0</td>\n",
       "      <td>1</td>\n",
       "      <td>0</td>\n",
       "      <td>0</td>\n",
       "      <td>1</td>\n",
       "      <td>0</td>\n",
       "      <td>1</td>\n",
       "      <td>0</td>\n",
       "      <td>0</td>\n",
       "      <td>0</td>\n",
       "      <td>0</td>\n",
       "      <td>0</td>\n",
       "      <td>0</td>\n",
       "      <td>1</td>\n",
       "      <td>0</td>\n",
       "    </tr>\n",
       "    <tr>\n",
       "      <th>2</th>\n",
       "      <td>0.266667</td>\n",
       "      <td>0.4</td>\n",
       "      <td>0.0</td>\n",
       "      <td>0.148148</td>\n",
       "      <td>1</td>\n",
       "      <td>0</td>\n",
       "      <td>1</td>\n",
       "      <td>0</td>\n",
       "      <td>0</td>\n",
       "      <td>1</td>\n",
       "      <td>0</td>\n",
       "      <td>1</td>\n",
       "      <td>0</td>\n",
       "      <td>0</td>\n",
       "      <td>0</td>\n",
       "      <td>1</td>\n",
       "      <td>0</td>\n",
       "      <td>0</td>\n",
       "      <td>1</td>\n",
       "      <td>1</td>\n",
       "    </tr>\n",
       "    <tr>\n",
       "      <th>3</th>\n",
       "      <td>0.266667</td>\n",
       "      <td>1.0</td>\n",
       "      <td>0.0</td>\n",
       "      <td>0.166667</td>\n",
       "      <td>0</td>\n",
       "      <td>0</td>\n",
       "      <td>1</td>\n",
       "      <td>0</td>\n",
       "      <td>0</td>\n",
       "      <td>1</td>\n",
       "      <td>0</td>\n",
       "      <td>0</td>\n",
       "      <td>0</td>\n",
       "      <td>1</td>\n",
       "      <td>0</td>\n",
       "      <td>0</td>\n",
       "      <td>0</td>\n",
       "      <td>0</td>\n",
       "      <td>1</td>\n",
       "      <td>0</td>\n",
       "    </tr>\n",
       "    <tr>\n",
       "      <th>4</th>\n",
       "      <td>0.266667</td>\n",
       "      <td>0.6</td>\n",
       "      <td>0.0</td>\n",
       "      <td>0.083333</td>\n",
       "      <td>1</td>\n",
       "      <td>0</td>\n",
       "      <td>1</td>\n",
       "      <td>0</td>\n",
       "      <td>0</td>\n",
       "      <td>1</td>\n",
       "      <td>0</td>\n",
       "      <td>1</td>\n",
       "      <td>0</td>\n",
       "      <td>0</td>\n",
       "      <td>0</td>\n",
       "      <td>1</td>\n",
       "      <td>0</td>\n",
       "      <td>0</td>\n",
       "      <td>1</td>\n",
       "      <td>0</td>\n",
       "    </tr>\n",
       "    <tr>\n",
       "      <th>...</th>\n",
       "      <td>...</td>\n",
       "      <td>...</td>\n",
       "      <td>...</td>\n",
       "      <td>...</td>\n",
       "      <td>...</td>\n",
       "      <td>...</td>\n",
       "      <td>...</td>\n",
       "      <td>...</td>\n",
       "      <td>...</td>\n",
       "      <td>...</td>\n",
       "      <td>...</td>\n",
       "      <td>...</td>\n",
       "      <td>...</td>\n",
       "      <td>...</td>\n",
       "      <td>...</td>\n",
       "      <td>...</td>\n",
       "      <td>...</td>\n",
       "      <td>...</td>\n",
       "      <td>...</td>\n",
       "      <td>...</td>\n",
       "    </tr>\n",
       "    <tr>\n",
       "      <th>383</th>\n",
       "      <td>0.333333</td>\n",
       "      <td>0.2</td>\n",
       "      <td>0.0</td>\n",
       "      <td>0.000000</td>\n",
       "      <td>0</td>\n",
       "      <td>0</td>\n",
       "      <td>1</td>\n",
       "      <td>0</td>\n",
       "      <td>0</td>\n",
       "      <td>1</td>\n",
       "      <td>0</td>\n",
       "      <td>0</td>\n",
       "      <td>0</td>\n",
       "      <td>1</td>\n",
       "      <td>0</td>\n",
       "      <td>1</td>\n",
       "      <td>0</td>\n",
       "      <td>0</td>\n",
       "      <td>1</td>\n",
       "      <td>0</td>\n",
       "    </tr>\n",
       "    <tr>\n",
       "      <th>384</th>\n",
       "      <td>0.333333</td>\n",
       "      <td>0.6</td>\n",
       "      <td>0.0</td>\n",
       "      <td>0.435185</td>\n",
       "      <td>0</td>\n",
       "      <td>0</td>\n",
       "      <td>1</td>\n",
       "      <td>0</td>\n",
       "      <td>0</td>\n",
       "      <td>1</td>\n",
       "      <td>0</td>\n",
       "      <td>0</td>\n",
       "      <td>0</td>\n",
       "      <td>1</td>\n",
       "      <td>0</td>\n",
       "      <td>1</td>\n",
       "      <td>0</td>\n",
       "      <td>0</td>\n",
       "      <td>1</td>\n",
       "      <td>0</td>\n",
       "    </tr>\n",
       "    <tr>\n",
       "      <th>385</th>\n",
       "      <td>0.266667</td>\n",
       "      <td>0.8</td>\n",
       "      <td>0.0</td>\n",
       "      <td>0.083333</td>\n",
       "      <td>0</td>\n",
       "      <td>0</td>\n",
       "      <td>1</td>\n",
       "      <td>0</td>\n",
       "      <td>0</td>\n",
       "      <td>1</td>\n",
       "      <td>0</td>\n",
       "      <td>0</td>\n",
       "      <td>0</td>\n",
       "      <td>1</td>\n",
       "      <td>0</td>\n",
       "      <td>1</td>\n",
       "      <td>0</td>\n",
       "      <td>0</td>\n",
       "      <td>1</td>\n",
       "      <td>0</td>\n",
       "    </tr>\n",
       "    <tr>\n",
       "      <th>386</th>\n",
       "      <td>0.333333</td>\n",
       "      <td>0.2</td>\n",
       "      <td>0.0</td>\n",
       "      <td>0.074074</td>\n",
       "      <td>1</td>\n",
       "      <td>0</td>\n",
       "      <td>1</td>\n",
       "      <td>0</td>\n",
       "      <td>0</td>\n",
       "      <td>1</td>\n",
       "      <td>0</td>\n",
       "      <td>1</td>\n",
       "      <td>0</td>\n",
       "      <td>0</td>\n",
       "      <td>0</td>\n",
       "      <td>1</td>\n",
       "      <td>0</td>\n",
       "      <td>0</td>\n",
       "      <td>1</td>\n",
       "      <td>0</td>\n",
       "    </tr>\n",
       "    <tr>\n",
       "      <th>387</th>\n",
       "      <td>0.333333</td>\n",
       "      <td>0.8</td>\n",
       "      <td>0.0</td>\n",
       "      <td>0.712963</td>\n",
       "      <td>1</td>\n",
       "      <td>0</td>\n",
       "      <td>1</td>\n",
       "      <td>0</td>\n",
       "      <td>0</td>\n",
       "      <td>1</td>\n",
       "      <td>0</td>\n",
       "      <td>0</td>\n",
       "      <td>0</td>\n",
       "      <td>1</td>\n",
       "      <td>0</td>\n",
       "      <td>1</td>\n",
       "      <td>0</td>\n",
       "      <td>0</td>\n",
       "      <td>1</td>\n",
       "      <td>0</td>\n",
       "    </tr>\n",
       "  </tbody>\n",
       "</table>\n",
       "<p>388 rows × 20 columns</p>\n",
       "</div>"
      ],
      "text/plain": [
       "          Age  Family size  latitude  Pin code  Gender_Male  \\\n",
       "0    0.133333          0.6       0.0  0.000000            0   \n",
       "1    0.400000          0.4       0.0  0.074074            0   \n",
       "2    0.266667          0.4       0.0  0.148148            1   \n",
       "3    0.266667          1.0       0.0  0.166667            0   \n",
       "4    0.266667          0.6       0.0  0.083333            1   \n",
       "..        ...          ...       ...       ...          ...   \n",
       "383  0.333333          0.2       0.0  0.000000            0   \n",
       "384  0.333333          0.6       0.0  0.435185            0   \n",
       "385  0.266667          0.8       0.0  0.083333            0   \n",
       "386  0.333333          0.2       0.0  0.074074            1   \n",
       "387  0.333333          0.8       0.0  0.712963            1   \n",
       "\n",
       "     Marital Status_Prefer not to say  Marital Status_Single  \\\n",
       "0                                   0                      1   \n",
       "1                                   0                      1   \n",
       "2                                   0                      1   \n",
       "3                                   0                      1   \n",
       "4                                   0                      1   \n",
       "..                                ...                    ...   \n",
       "383                                 0                      1   \n",
       "384                                 0                      1   \n",
       "385                                 0                      1   \n",
       "386                                 0                      1   \n",
       "387                                 0                      1   \n",
       "\n",
       "     Occupation_House wife  Occupation_Self Employeed  Occupation_Student  \\\n",
       "0                        0                          0                   1   \n",
       "1                        0                          0                   1   \n",
       "2                        0                          0                   1   \n",
       "3                        0                          0                   1   \n",
       "4                        0                          0                   1   \n",
       "..                     ...                        ...                 ...   \n",
       "383                      0                          0                   1   \n",
       "384                      0                          0                   1   \n",
       "385                      0                          0                   1   \n",
       "386                      0                          0                   1   \n",
       "387                      0                          0                   1   \n",
       "\n",
       "     Monthly Income_25001 to 50000  Monthly Income_Below Rs.10000  \\\n",
       "0                                0                              0   \n",
       "1                                0                              1   \n",
       "2                                0                              1   \n",
       "3                                0                              0   \n",
       "4                                0                              1   \n",
       "..                             ...                            ...   \n",
       "383                              0                              0   \n",
       "384                              0                              0   \n",
       "385                              0                              0   \n",
       "386                              0                              1   \n",
       "387                              0                              0   \n",
       "\n",
       "     Monthly Income_More than 50000  Monthly Income_No Income  \\\n",
       "0                                 0                         1   \n",
       "1                                 0                         0   \n",
       "2                                 0                         0   \n",
       "3                                 0                         1   \n",
       "4                                 0                         0   \n",
       "..                              ...                       ...   \n",
       "383                               0                         1   \n",
       "384                               0                         1   \n",
       "385                               0                         1   \n",
       "386                               0                         0   \n",
       "387                               0                         1   \n",
       "\n",
       "     Educational Qualifications_Ph.D  \\\n",
       "0                                  0   \n",
       "1                                  0   \n",
       "2                                  0   \n",
       "3                                  0   \n",
       "4                                  0   \n",
       "..                               ...   \n",
       "383                                0   \n",
       "384                                0   \n",
       "385                                0   \n",
       "386                                0   \n",
       "387                                0   \n",
       "\n",
       "     Educational Qualifications_Post Graduate  \\\n",
       "0                                           1   \n",
       "1                                           0   \n",
       "2                                           1   \n",
       "3                                           0   \n",
       "4                                           1   \n",
       "..                                        ...   \n",
       "383                                         1   \n",
       "384                                         1   \n",
       "385                                         1   \n",
       "386                                         1   \n",
       "387                                         1   \n",
       "\n",
       "     Educational Qualifications_School  Educational Qualifications_Uneducated  \\\n",
       "0                                    0                                      0   \n",
       "1                                    0                                      0   \n",
       "2                                    0                                      0   \n",
       "3                                    0                                      0   \n",
       "4                                    0                                      0   \n",
       "..                                 ...                                    ...   \n",
       "383                                  0                                      0   \n",
       "384                                  0                                      0   \n",
       "385                                  0                                      0   \n",
       "386                                  0                                      0   \n",
       "387                                  0                                      0   \n",
       "\n",
       "     Output_Yes  Feedback_Negative  \n",
       "0             1                  0  \n",
       "1             1                  0  \n",
       "2             1                  1  \n",
       "3             1                  0  \n",
       "4             1                  0  \n",
       "..          ...                ...  \n",
       "383           1                  0  \n",
       "384           1                  0  \n",
       "385           1                  0  \n",
       "386           1                  0  \n",
       "387           1                  0  \n",
       "\n",
       "[388 rows x 20 columns]"
      ]
     },
     "execution_count": 3,
     "metadata": {},
     "output_type": "execute_result"
    }
   ],
   "source": [
    "df_model = pd.read_csv(\"data/df_model.csv\")\n",
    "df_model"
   ]
  },
  {
   "cell_type": "markdown",
   "metadata": {},
   "source": [
    "# Modeling - Manual Multiple Logistic Regression"
   ]
  },
  {
   "cell_type": "code",
   "execution_count": 4,
   "metadata": {},
   "outputs": [],
   "source": [
    "from sklearn.model_selection import train_test_split"
   ]
  },
  {
   "cell_type": "code",
   "execution_count": 5,
   "metadata": {},
   "outputs": [],
   "source": [
    "train, test = train_test_split(df_model, test_size=0.3, random_state=98)\n",
    "\n",
    "train = train.reset_index(drop=True)\n",
    "test = test.reset_index(drop=True)"
   ]
  },
  {
   "cell_type": "code",
   "execution_count": 6,
   "metadata": {},
   "outputs": [],
   "source": [
    "train_columns = df_model.drop('Feedback_Negative', axis=1).columns\n",
    "target_column = 'Feedback_Negative'\n",
    "\n",
    "x_train = train[train_columns]\n",
    "y_train = train[target_column]\n",
    "\n",
    "x_test = test[train_columns]\n",
    "y_test = test[target_column]"
   ]
  },
  {
   "cell_type": "markdown",
   "metadata": {},
   "source": [
    "## Sigmoid or Logistic Function\n",
    "- We start by using our linear regression model, $f_{\\mathbf{w},b}(\\mathbf{x}^{(i)}) = \\mathbf{w} \\cdot  \\mathbf{x}^{(i)} + b$, to predict $y$ given $x$. \n",
    "- However, we would like the predictions of our classification model to be between 0 and 1 since our output variable $y$ is either 0 or 1. \n",
    "- This can be accomplished by using a \"sigmoid function\" which maps all input values to values between 0 and 1. \n",
    "\n",
    "\n",
    "### Formula for Sigmoid function\n",
    "\n",
    "The formula for a sigmoid function is as follows -  \n",
    "\n",
    "### $$g(z) = \\frac{1}{1+e^{-z}}$$\n",
    "\n",
    "In the case of logistic regression, z (the input to the sigmoid function), is the output of a linear regression model. \n",
    "- In the case of a single example, $z$ is scalar.\n",
    "- in the case of multiple examples, $z$ may be a vector consisting of $m$ values, one for each example. \n",
    "- The implementation of the sigmoid function should cover both of these potential input formats."
   ]
  },
  {
   "cell_type": "markdown",
   "metadata": {},
   "source": [
    "## Logistic Regression\n",
    " A logistic regression model applies the sigmoid to the linear regression model:\n",
    "\n",
    "### $$ f_{\\mathbf{w},b}(\\mathbf{x}^{(i)}) = g(\\mathbf{w} \\cdot \\mathbf{x}^{(i)} + b ) $$ \n",
    "\n",
    "  where\n",
    "\n",
    "### $$g(z) = \\frac{1}{1+e^{-z}}$$\n",
    "\n",
    "# \n",
    "* We interpret the output of the model ($f_{\\mathbf{w},b}(x)$) as the probability that $y=1$ given $\\mathbf{x}$ and parameterized by $\\mathbf{w}$ and $b$.\n",
    "* Therefore, to get a final prediction ($y=0$ or $y=1$) from the logistic regression model, we can use the following heuristic :\n",
    "\n",
    "####  if $f_{\\mathbf{w},b}(x) >= 0.5$, predict $y=1$\n",
    "  \n",
    "####  if $f_{\\mathbf{w},b}(x) < 0.5$, predict $y=0$\n",
    "\n",
    "## Decision Boundary\n",
    "\n",
    "$g(z) >= 0.5$ for $z >=0$\n",
    "\n",
    "* For a logistic regression model, $z = \\mathbf{w} \\cdot \\mathbf{x} + b$. Therefore,\n",
    "\n",
    "  if $\\mathbf{w} \\cdot \\mathbf{x} + b >= 0$, the model predicts $y=1$\n",
    "  \n",
    "  if $\\mathbf{w} \\cdot \\mathbf{x} + b < 0$, the model predicts $y=0$\n",
    "\n",
    "<figure>\n",
    "     <center><img src=\"imgs/decision_boundary-2.png\"  style=\"width:600px;height:300px;\"></center>\n",
    "</figure>\n",
    "\n",
    "<figure>\n",
    "     <center><img src=\"imgs/decision_boundary.png\"  style=\"width:600px;height:300px;\"></center>\n",
    "</figure>"
   ]
  },
  {
   "cell_type": "markdown",
   "metadata": {},
   "source": [
    "## Cost Function\n",
    " Logistic regression use the **Logistic Loss Function**, because when using squared error cost, the curve becomes non-convex, impairing the calculation to arrive at the global minimum.\n",
    "\n",
    "<figure>\n",
    "     <center><img src=\"imgs/img-3.png\"  style=\"width:900px;height:300px;\"></center>\n",
    "</figure>\n",
    "\n",
    "* **Loss** is a measure of the difference of a single example to its target value\n",
    "* **Cost** is a measure of the losses over the training set\n",
    "\n",
    "\n",
    "This is defined: \n",
    "* $loss(f_{\\mathbf{w},b}(\\mathbf{x}^{(i)}), y^{(i)})$ is the cost for a single data point, which is:\n",
    "\n",
    "\\begin{equation}\n",
    "  loss(f_{\\mathbf{w},b}(\\mathbf{x}^{(i)}), y^{(i)}) = \\begin{cases}\n",
    "    - \\log\\left(f_{\\mathbf{w},b}\\left( \\mathbf{x}^{(i)} \\right) \\right) & \\text{if $y^{(i)}=1$}\\\\\n",
    "    - \\log \\left( 1 - f_{\\mathbf{w},b}\\left( \\mathbf{x}^{(i)} \\right) \\right) & \\text{if $y^{(i)}=0$}\n",
    "  \\end{cases}\\end{equation}\n",
    "\n",
    "*  $f_{\\mathbf{w},b}(\\mathbf{x}^{(i)})$ is the model's prediction, while $y^{(i)}$ is the target value.\n",
    "\n",
    "*  $f_{\\mathbf{w},b}(\\mathbf{x}^{(i)}) = g(\\mathbf{w} \\cdot\\mathbf{x}^{(i)}+b)$ where function $g$ is the sigmoid function.\n",
    "\n",
    "<figure>\n",
    "     <center><img src=\"imgs/loss.png\"  style=\"width:900px;height:300px;\"></center>\n",
    "</figure>\n",
    "\n",
    "* When y=1, the closer to 1, the smaller the error.\n",
    "* When y=0, the closer to 1, the grater the error.\n",
    "\n",
    "#### The **Loss Function** can be rewritten to be easier to implement.\n",
    "$$loss(f_{\\mathbf{w},b}(\\mathbf{x}^{(i)}), y^{(i)}) = (-y^{(i)} \\log\\left(f_{\\mathbf{w},b}\\left( \\mathbf{x}^{(i)} \\right) \\right) - \\left( 1 - y^{(i)}\\right) \\log \\left( 1 - f_{\\mathbf{w},b}\\left( \\mathbf{x}^{(i)} \\right) \\right)$$\n",
    "\n",
    "\n",
    "## **The Cost Function** : \n",
    "\n",
    "\n",
    "$$ J(\\mathbf{w},b) = \\frac{1}{m} \\sum_{i=0}^{m-1} \\left[ loss(f_{\\mathbf{w},b}(\\mathbf{x}^{(i)}), y^{(i)}) \\right] \\tag{1}$$"
   ]
  },
  {
   "cell_type": "code",
   "execution_count": 7,
   "metadata": {},
   "outputs": [],
   "source": [
    "def sigmoid(z):\n",
    "\n",
    "    # np.exp : way to calculate the exponential (e^z) of all elements in the input array (z)\n",
    "    g = 1 / (1 + np.exp(-z))\n",
    "\n",
    "    return g"
   ]
  },
  {
   "cell_type": "code",
   "execution_count": 8,
   "metadata": {},
   "outputs": [],
   "source": [
    "def compute_cost_logistic (x, y, w, b):\n",
    "    \n",
    "    m = x.shape[0]\n",
    "    cost = 0.0\n",
    "\n",
    "    for i in range(m):\n",
    "\n",
    "        # z = linear regression\n",
    "        z_i = np.dot(x.iloc[i], w) + b\n",
    "\n",
    "        # Compute sigmoid function\n",
    "        f_wb_i = sigmoid(z_i)\n",
    "\n",
    "        # Compute the cost. \n",
    "        # If y=0 : -y[i] * np.log(f_wb_i) = 0, and the equation will be - (1 - y[i]) * np.log(1 - f_wb_i)\n",
    "        # If y=1 : -(1 - y[i]) * np.log(1 - f_wb_i) = 0, and the equation will be -y[i] * np.log(f_wb_i)\n",
    "        cost += -y[i] * np.log(f_wb_i) - (1 - y[i]) * np.log(1 - f_wb_i)\n",
    "    \n",
    "    cost = cost / m\n",
    "\n",
    "    return cost"
   ]
  },
  {
   "cell_type": "code",
   "execution_count": 9,
   "metadata": {},
   "outputs": [
    {
     "data": {
      "text/plain": [
       "(271, 19)"
      ]
     },
     "execution_count": 9,
     "metadata": {},
     "output_type": "execute_result"
    }
   ],
   "source": [
    "x_train.shape"
   ]
  },
  {
   "cell_type": "code",
   "execution_count": 10,
   "metadata": {},
   "outputs": [
    {
     "name": "stdout",
     "output_type": "stream",
     "text": [
      "4.845841540539585\n"
     ]
    }
   ],
   "source": [
    "w_tmp = np.repeat(1, 19).tolist()\n",
    "b_tmp = 0\n",
    "\n",
    "print(compute_cost_logistic(x_train, y_train, w_tmp, b_tmp))"
   ]
  },
  {
   "cell_type": "markdown",
   "metadata": {},
   "source": [
    "## **The Optimization of the Cost Function : Logistic Gradient Descent**\n",
    "\n",
    "\n",
    "## **Gradient Descent with Multiple Variables**\n",
    "\n",
    "\n",
    "$$\\begin{align*} \\text{repeat}&\\text{ until convergence:} \\; \\lbrace \\newline\\;\n",
    "& w_j = w_j -  \\alpha \\frac{\\partial J(\\mathbf{w},b)}{\\partial w_j} \\  \\; & \\text{for j = 0..n-1}\\newline\n",
    "&b\\ \\ = b -  \\alpha \\frac{\\partial J(\\mathbf{w},b)}{\\partial b}  \\newline \\rbrace\n",
    "\\end{align*}$$"
   ]
  },
  {
   "cell_type": "code",
   "execution_count": 11,
   "metadata": {},
   "outputs": [],
   "source": [
    "def compute_gradient_logistic (x, y, w, b) : \n",
    "\n",
    "    # m = examples os training dataset, n = number of features \n",
    "    m, n = x.shape\n",
    "\n",
    "    # List of partial derivates of parameters\n",
    "    dj_dw = np.zeros((n, ))\n",
    "\n",
    "    # Partial derivate of intercept\n",
    "    dj_db = 0\n",
    "\n",
    "    # First Looping : Compute the mean of partial derivate of all examples\n",
    "    for i in range(m) :\n",
    "\n",
    "        # First : Compute the error of prediction\n",
    "        f_wb_i = sigmoid( np.dot(x.iloc[i], w) + b ) # prediction\n",
    "        err_i = f_wb_i - y[i] # error\n",
    "\n",
    "        # Second Loop intern : Compute the partial derivate for each feature and add them.\n",
    "        for j in range (n):\n",
    "\n",
    "            #partial derivate = err * x[i, j]\n",
    "            dj_dw[j] = dj_dw[j] + err_i * x.iloc[i, j]\n",
    "        \n",
    "        # Compute the partial derivate of intercept\n",
    "        dj_db = dj_db + err_i\n",
    "    \n",
    "    # Mean of Partial Derivates of all parameters across all examples\n",
    "    dj_dw = dj_dw / m\n",
    "\n",
    "    # Mean of Partial Derivates of intercept across all examples\n",
    "    dj_db = dj_db / m\n",
    "\n",
    "    return dj_db, dj_dw"
   ]
  },
  {
   "cell_type": "code",
   "execution_count": 12,
   "metadata": {},
   "outputs": [],
   "source": [
    "def gradient_descent (x, y, w_in, b_in, alpha, num_iters):\n",
    "\n",
    "    # Performs batch gradient descent to learn w and b. Updates w and b by taking num_iters gradient steps with learning rate alpha\n",
    "\n",
    "    # An array to store cost J and w's at each iteration primarily for graphing later\n",
    "    J_history = []\n",
    "\n",
    "    # Avoid modifying global w within function\n",
    "    w = copy.deepcopy(w_in)\n",
    "\n",
    "    b = b_in\n",
    "\n",
    "    # Gradient Descent looping\n",
    "    for i in range(num_iters):\n",
    "\n",
    "        #Calculate the gradients\n",
    "        dj_db, dj_dw = compute_gradient_logistic(x, y, w, b)\n",
    "\n",
    "        #Update parameters using w, b, alpha and gradient\n",
    "        w = w - alpha * dj_dw\n",
    "        b = b - alpha * dj_db\n",
    "\n",
    "        #Save cost J at each iteration\n",
    "        if i<100000:    #prevent resource exhaustion\n",
    "\n",
    "            J_history.append(compute_cost_logistic(x, y, w, b))\n",
    "        \n",
    "        #Print cost every at intervals 10 times or as many iterations if < 10\n",
    "        if i% math.ceil(num_iters / 10) == 0:\n",
    "            print(f\"Iteration {i:4d} : Cost {J_history[-1]:0.4f} \")\n",
    "    \n",
    "    #return final w, b and J history for graphing\n",
    "    return w, b, J_history"
   ]
  },
  {
   "cell_type": "markdown",
   "metadata": {},
   "source": [
    "## **Run the Optimazation Model with Gradient Descent**"
   ]
  },
  {
   "cell_type": "code",
   "execution_count": 13,
   "metadata": {},
   "outputs": [
    {
     "name": "stdout",
     "output_type": "stream",
     "text": [
      "Iteration    0 : Cost 4.5614 \n",
      "Iteration 1000 : Cost 0.2974 \n",
      "Iteration 2000 : Cost 0.2901 \n",
      "Iteration 3000 : Cost 0.2874 \n",
      "Iteration 4000 : Cost 0.2858 \n",
      "Iteration 5000 : Cost 0.2847 \n",
      "Iteration 6000 : Cost 0.2838 \n",
      "Iteration 7000 : Cost 0.2831 \n",
      "Iteration 8000 : Cost 0.2825 \n",
      "Iteration 9000 : Cost 0.2821 \n",
      "\n",
      "Updated parameters: w:[ 0.75266843 -0.274996    0.64998835 -0.16352783 -0.03614532  1.26541845\n",
      "  0.12926411 -0.99668077  0.36011871  0.27028156  0.72163197  2.45719312\n",
      " -0.44006994 -0.30141558 -0.14067292 -0.75510465 -0.0716969   3.28307586\n",
      " -2.98828395], b:-0.26750545358490313\n"
     ]
    }
   ],
   "source": [
    "w_tmp = np.repeat(1, 19).tolist()\n",
    "b_tmp = 0\n",
    "alpha = 0.1\n",
    "iters = 10000\n",
    "\n",
    "w_out, b_out, _ = gradient_descent(x_train, y_train, w_tmp, b_tmp, alpha, iters)\n",
    "print(f\"\\nUpdated parameters: w:{w_out}, b:{b_out}\")"
   ]
  },
  {
   "cell_type": "markdown",
   "metadata": {},
   "source": [
    "## **Model Validation : train dataset** "
   ]
  },
  {
   "cell_type": "code",
   "execution_count": 27,
   "metadata": {},
   "outputs": [],
   "source": [
    "from sklearn.metrics import confusion_matrix, accuracy_score, precision_score, recall_score, f1_score, roc_auc_score, roc_curve, precision_recall_curve, log_loss, cohen_kappa_score, classification_report\n",
    "import matplotlib.pyplot as plt\n",
    "import seaborn as sns"
   ]
  },
  {
   "cell_type": "code",
   "execution_count": 48,
   "metadata": {},
   "outputs": [],
   "source": [
    "threshold = 0.5"
   ]
  },
  {
   "cell_type": "code",
   "execution_count": 49,
   "metadata": {},
   "outputs": [],
   "source": [
    "y_pred = (np.dot(x_train, w_out) + b_out).round(3)\n",
    "\n",
    "y_pred_binary = np.where(y_pred >= threshold, 1, 0)"
   ]
  },
  {
   "cell_type": "code",
   "execution_count": 54,
   "metadata": {},
   "outputs": [
    {
     "data": {
      "image/png": "[encoded data removed]",
      "text/plain": [
       "<Figure size 800x600 with 2 Axes>"
      ]
     },
     "metadata": {},
     "output_type": "display_data"
    }
   ],
   "source": [
    "cm = confusion_matrix(y_train, y_pred_binary)\n",
    "\n",
    "plt.figure(figsize=(8, 6))\n",
    "sns.heatmap(cm, annot=True, fmt='d', cmap='Blues')\n",
    "plt.xlabel('Predict')\n",
    "plt.ylabel('Real')\n",
    "plt.title('Confusion Matrix')\n",
    "plt.show()"
   ]
  },
  {
   "cell_type": "code",
   "execution_count": 32,
   "metadata": {},
   "outputs": [
    {
     "data": {
      "text/plain": [
       "array([[219,   6],\n",
       "       [ 27,  19]], dtype=int64)"
      ]
     },
     "execution_count": 32,
     "metadata": {},
     "output_type": "execute_result"
    }
   ],
   "source": [
    "cm"
   ]
  },
  {
   "cell_type": "code",
   "execution_count": 55,
   "metadata": {},
   "outputs": [
    {
     "name": "stdout",
     "output_type": "stream",
     "text": [
      "              precision    recall  f1-score   support\n",
      "\n",
      "           0       0.89      0.97      0.93       225\n",
      "           1       0.76      0.41      0.54        46\n",
      "\n",
      "    accuracy                           0.88       271\n",
      "   macro avg       0.83      0.69      0.73       271\n",
      "weighted avg       0.87      0.88      0.86       271\n",
      "\n"
     ]
    }
   ],
   "source": [
    "print(classification_report(y_train, y_pred_binary))"
   ]
  },
  {
   "cell_type": "code",
   "execution_count": 57,
   "metadata": {},
   "outputs": [
    {
     "name": "stdout",
     "output_type": "stream",
     "text": [
      "Area under the ROC Curve (AUC-ROC): 0.6931884057971015\n",
      "Log Loss: 4.389079563988435\n",
      "index Cohen Kappa: 0.47210908446962996\n"
     ]
    }
   ],
   "source": [
    "roc_auc = roc_auc_score(y_train, y_pred_binary)\n",
    "logloss = log_loss(y_train, y_pred_binary)\n",
    "cohen_kappa = cohen_kappa_score(y_train, y_pred_binary)\n",
    "\n",
    "print(\"Area under the ROC Curve (AUC-ROC):\", roc_auc)\n",
    "print(\"Log Loss:\", logloss)\n",
    "print(\"index Cohen Kappa:\", cohen_kappa)"
   ]
  },
  {
   "cell_type": "markdown",
   "metadata": {},
   "source": [
    "# Sklearn Logistic Regression : Gradient Descent"
   ]
  },
  {
   "cell_type": "code",
   "execution_count": 58,
   "metadata": {},
   "outputs": [],
   "source": [
    "from sklearn.linear_model import LogisticRegression"
   ]
  },
  {
   "cell_type": "code",
   "execution_count": 59,
   "metadata": {},
   "outputs": [],
   "source": [
    "model = LogisticRegression()"
   ]
  },
  {
   "cell_type": "code",
   "execution_count": 60,
   "metadata": {},
   "outputs": [
    {
     "data": {
      "text/html": [
       "<style>#sk-container-id-1 {color: black;background-color: white;}#sk-container-id-1 pre{padding: 0;}#sk-container-id-1 div.sk-toggleable {background-color: white;}#sk-container-id-1 label.sk-toggleable__label {cursor: pointer;display: block;width: 100%;margin-bottom: 0;padding: 0.3em;box-sizing: border-box;text-align: center;}#sk-container-id-1 label.sk-toggleable__label-arrow:before {content: \"▸\";float: left;margin-right: 0.25em;color: #696969;}#sk-container-id-1 label.sk-toggleable__label-arrow:hover:before {color: black;}#sk-container-id-1 div.sk-estimator:hover label.sk-toggleable__label-arrow:before {color: black;}#sk-container-id-1 div.sk-toggleable__content {max-height: 0;max-width: 0;overflow: hidden;text-align: left;background-color: #f0f8ff;}#sk-container-id-1 div.sk-toggleable__content pre {margin: 0.2em;color: black;border-radius: 0.25em;background-color: #f0f8ff;}#sk-container-id-1 input.sk-toggleable__control:checked~div.sk-toggleable__content {max-height: 200px;max-width: 100%;overflow: auto;}#sk-container-id-1 input.sk-toggleable__control:checked~label.sk-toggleable__label-arrow:before {content: \"▾\";}#sk-container-id-1 div.sk-estimator input.sk-toggleable__control:checked~label.sk-toggleable__label {background-color: #d4ebff;}#sk-container-id-1 div.sk-label input.sk-toggleable__control:checked~label.sk-toggleable__label {background-color: #d4ebff;}#sk-container-id-1 input.sk-hidden--visually {border: 0;clip: rect(1px 1px 1px 1px);clip: rect(1px, 1px, 1px, 1px);height: 1px;margin: -1px;overflow: hidden;padding: 0;position: absolute;width: 1px;}#sk-container-id-1 div.sk-estimator {font-family: monospace;background-color: #f0f8ff;border: 1px dotted black;border-radius: 0.25em;box-sizing: border-box;margin-bottom: 0.5em;}#sk-container-id-1 div.sk-estimator:hover {background-color: #d4ebff;}#sk-container-id-1 div.sk-parallel-item::after {content: \"\";width: 100%;border-bottom: 1px solid gray;flex-grow: 1;}#sk-container-id-1 div.sk-label:hover label.sk-toggleable__label {background-color: #d4ebff;}#sk-container-id-1 div.sk-serial::before {content: \"\";position: absolute;border-left: 1px solid gray;box-sizing: border-box;top: 0;bottom: 0;left: 50%;z-index: 0;}#sk-container-id-1 div.sk-serial {display: flex;flex-direction: column;align-items: center;background-color: white;padding-right: 0.2em;padding-left: 0.2em;position: relative;}#sk-container-id-1 div.sk-item {position: relative;z-index: 1;}#sk-container-id-1 div.sk-parallel {display: flex;align-items: stretch;justify-content: center;background-color: white;position: relative;}#sk-container-id-1 div.sk-item::before, #sk-container-id-1 div.sk-parallel-item::before {content: \"\";position: absolute;border-left: 1px solid gray;box-sizing: border-box;top: 0;bottom: 0;left: 50%;z-index: -1;}#sk-container-id-1 div.sk-parallel-item {display: flex;flex-direction: column;z-index: 1;position: relative;background-color: white;}#sk-container-id-1 div.sk-parallel-item:first-child::after {align-self: flex-end;width: 50%;}#sk-container-id-1 div.sk-parallel-item:last-child::after {align-self: flex-start;width: 50%;}#sk-container-id-1 div.sk-parallel-item:only-child::after {width: 0;}#sk-container-id-1 div.sk-dashed-wrapped {border: 1px dashed gray;margin: 0 0.4em 0.5em 0.4em;box-sizing: border-box;padding-bottom: 0.4em;background-color: white;}#sk-container-id-1 div.sk-label label {font-family: monospace;font-weight: bold;display: inline-block;line-height: 1.2em;}#sk-container-id-1 div.sk-label-container {text-align: center;}#sk-container-id-1 div.sk-container {/* jupyter's `normalize.less` sets `[hidden] { display: none; }` but bootstrap.min.css set `[hidden] { display: none !important; }` so we also need the `!important` here to be able to override the default hidden behavior on the sphinx rendered scikit-learn.org. See: https://github.com/scikit-learn/scikit-learn/issues/21755 */display: inline-block !important;position: relative;}#sk-container-id-1 div.sk-text-repr-fallback {display: none;}</style><div id=\"sk-container-id-1\" class=\"sk-top-container\"><div class=\"sk-text-repr-fallback\"><pre>LogisticRegression()</pre><b>In a Jupyter environment, please rerun this cell to show the HTML representation or trust the notebook. <br />On GitHub, the HTML representation is unable to render, please try loading this page with nbviewer.org.</b></div><div class=\"sk-container\" hidden><div class=\"sk-item\"><div class=\"sk-estimator sk-toggleable\"><input class=\"sk-toggleable__control sk-hidden--visually\" id=\"sk-estimator-id-1\" type=\"checkbox\" checked><label for=\"sk-estimator-id-1\" class=\"sk-toggleable__label sk-toggleable__label-arrow\">LogisticRegression</label><div class=\"sk-toggleable__content\"><pre>LogisticRegression()</pre></div></div></div></div></div>"
      ],
      "text/plain": [
       "LogisticRegression()"
      ]
     },
     "execution_count": 60,
     "metadata": {},
     "output_type": "execute_result"
    }
   ],
   "source": [
    "model.fit(x_train, y_train)"
   ]
  },
  {
   "cell_type": "code",
   "execution_count": 61,
   "metadata": {},
   "outputs": [],
   "source": [
    "y_pred_sklearn = model.predict(x_train)"
   ]
  },
  {
   "cell_type": "code",
   "execution_count": 63,
   "metadata": {},
   "outputs": [
    {
     "data": {
      "image/png": "[encoded data removed]",
      "text/plain": [
       "<Figure size 800x600 with 2 Axes>"
      ]
     },
     "metadata": {},
     "output_type": "display_data"
    }
   ],
   "source": [
    "cm_2 = confusion_matrix(y_train, y_pred_sklearn)\n",
    "\n",
    "plt.figure(figsize=(8, 6))\n",
    "sns.heatmap(cm_2, annot=True, fmt='d', cmap='Blues')\n",
    "plt.xlabel('Predict')\n",
    "plt.ylabel('Real')\n",
    "plt.title('Confusion Matrix')\n",
    "plt.show()"
   ]
  },
  {
   "cell_type": "code",
   "execution_count": 64,
   "metadata": {},
   "outputs": [
    {
     "data": {
      "text/plain": [
       "array([[216,   9],\n",
       "       [ 19,  27]], dtype=int64)"
      ]
     },
     "execution_count": 64,
     "metadata": {},
     "output_type": "execute_result"
    }
   ],
   "source": [
    "cm_2"
   ]
  },
  {
   "cell_type": "code",
   "execution_count": 65,
   "metadata": {},
   "outputs": [
    {
     "name": "stdout",
     "output_type": "stream",
     "text": [
      "              precision    recall  f1-score   support\n",
      "\n",
      "           0       0.92      0.96      0.94       225\n",
      "           1       0.75      0.59      0.66        46\n",
      "\n",
      "    accuracy                           0.90       271\n",
      "   macro avg       0.83      0.77      0.80       271\n",
      "weighted avg       0.89      0.90      0.89       271\n",
      "\n"
     ]
    }
   ],
   "source": [
    "print(classification_report(y_train, y_pred_sklearn))"
   ]
  },
  {
   "cell_type": "code",
   "execution_count": 66,
   "metadata": {},
   "outputs": [
    {
     "name": "stdout",
     "output_type": "stream",
     "text": [
      "Area under the ROC Curve (AUC-ROC): 0.7734782608695652\n",
      "Log Loss: 3.7240675088386723\n",
      "index Cohen Kappa: 0.5987308302485458\n"
     ]
    }
   ],
   "source": [
    "roc_auc = roc_auc_score(y_train, y_pred_sklearn)\n",
    "logloss = log_loss(y_train, y_pred_sklearn)\n",
    "cohen_kappa = cohen_kappa_score(y_train, y_pred_sklearn)\n",
    "\n",
    "print(\"Area under the ROC Curve (AUC-ROC):\", roc_auc)\n",
    "print(\"Log Loss:\", logloss)\n",
    "print(\"index Cohen Kappa:\", cohen_kappa)"
   ]
  }
 ],
 "metadata": {
  "kernelspec": {
   "display_name": "Python 3.11.8 ('base')",
   "language": "python",
   "name": "python3"
  },
  "language_info": {
   "codemirror_mode": {
    "name": "ipython",
    "version": 3
   },
   "file_extension": ".py",
   "mimetype": "text/x-python",
   "name": "python",
   "nbconvert_exporter": "python",
   "pygments_lexer": "ipython3",
   "version": "3.11.8"
  },
  "orig_nbformat": 4,
  "vscode": {
   "interpreter": {
    "hash": "88279d2366fe020547cde40dd65aa0e3aa662a6ec1f3ca12d88834876c85e1a6"
   }
  }
 },
 "nbformat": 4,
 "nbformat_minor": 2
}
